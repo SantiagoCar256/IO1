{
  "nbformat": 4,
  "nbformat_minor": 0,
  "metadata": {
    "colab": {
      "provenance": [],
      "toc_visible": true,
      "authorship_tag": "ABX9TyOspPzQ+gVWeaV8a3BhzrQo",
      "include_colab_link": true
    },
    "kernelspec": {
      "name": "python3",
      "display_name": "Python 3"
    },
    "language_info": {
      "name": "python"
    }
  },
  "cells": [
    {
      "cell_type": "markdown",
      "metadata": {
        "id": "view-in-github",
        "colab_type": "text"
      },
      "source": [
        "<a href=\"https://colab.research.google.com/github/SantiagoCar256/IO1/blob/main/Clase1_IO1.ipynb\" target=\"_parent\"><img src=\"https://colab.research.google.com/assets/colab-badge.svg\" alt=\"Open In Colab\"/></a>"
      ]
    },
    {
      "cell_type": "markdown",
      "source": [
        "#Clase practica N°1 - Investigación de operaciones 1\n",
        "\n"
      ],
      "metadata": {
        "id": "ayWU51lZyq_W"
      }
    },
    {
      "cell_type": "markdown",
      "source": [
        "##Subtitulo\n"
      ],
      "metadata": {
        "id": "lGx5v1XyzhEn"
      }
    },
    {
      "cell_type": "code",
      "source": [
        "print(\"Hola mundo\")\n"
      ],
      "metadata": {
        "colab": {
          "base_uri": "https://localhost:8080/"
        },
        "id": "CGMscUqKyxy1",
        "outputId": "d476f4c3-08bf-44ac-f233-f71466941211"
      },
      "execution_count": 1,
      "outputs": [
        {
          "output_type": "stream",
          "name": "stdout",
          "text": [
            "Hola mundo\n"
          ]
        }
      ]
    }
  ]
}